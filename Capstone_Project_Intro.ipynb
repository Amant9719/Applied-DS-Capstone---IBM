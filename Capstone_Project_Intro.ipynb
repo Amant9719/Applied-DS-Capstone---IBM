{
 "cells": [
  {
   "cell_type": "markdown",
   "metadata": {},
   "source": [
    "# A Recommender System for Groceries Contractor\n",
    "\n",
    "## Part 1: Problem Description\n",
    "### There is a groceries contractor in one of the boroughs of Toronto. This contractor provides places such as: {Different types of Restaurants, Bakery, Bar, Breakfast Spot, Brewery and Café} with fresh and high-quality grocesires. The contractor wants to build a warehouse for groceries so that they will support more customers and also bring better \"Quality of Serive\" to old customers. \n",
    "### The contractor should build this warehouse where it is closest to its customers in order to minimize the cost of transpotation. which neighborhood (in that borough) would be a better choice for the contractor to build the warehouse in that neighborhood.\n",
    "## .\n",
    "## Part 2: Data We Need\n",
    "### 1- We will need geo-locational information about that specific borough and the neighborhoods in that borough. This is easily provided for us by the contractor, because the contractor has fixed the borough and is just not sure about the neighborhood.\n",
    "### 2- We will need data about different venues in different neighborhoods of that specific borough. In order to gain that information we will use Foursquare locational information.\n",
    "### .\n",
    "### Some Notes about \"Foursquare\": <https://foursquare.com/>\n",
    "##### Foursquare is a local search-and-discovery service mobile app which provides search results for its users (Wikipedia).\n",
    "##### Founded: New York City, New York, U.S\n",
    "##### Users: 60 million\n",
    "##### Date launched: March 11, 2009\n",
    "##### Employees: Over 200\n",
    "##### Founders: Dennis Crowley, Naveen Selvadurai\n",
    "##### Owner: Foursquare Labs, Inc."
   ]
  },
  {
   "cell_type": "code",
   "execution_count": null,
   "metadata": {},
   "outputs": [],
   "source": []
  }
 ],
 "metadata": {
  "kernelspec": {
   "display_name": "Python 3",
   "language": "python",
   "name": "python3"
  },
  "language_info": {
   "codemirror_mode": {
    "name": "ipython",
    "version": 3
   },
   "file_extension": ".py",
   "mimetype": "text/x-python",
   "name": "python",
   "nbconvert_exporter": "python",
   "pygments_lexer": "ipython3",
   "version": "3.6.6"
  }
 },
 "nbformat": 4,
 "nbformat_minor": 1
}
